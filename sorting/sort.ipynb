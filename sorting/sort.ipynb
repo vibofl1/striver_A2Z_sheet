{
 "cells": [
  {
   "cell_type": "code",
   "execution_count": 43,
   "metadata": {},
   "outputs": [],
   "source": [
    "arr=[4,3,7,9,2,21]\n",
    "n=len(arr)\n"
   ]
  },
  {
   "cell_type": "code",
   "execution_count": 44,
   "metadata": {},
   "outputs": [
    {
     "name": "stdout",
     "output_type": "stream",
     "text": [
      "[4, 3, 7, 9, 2, 21]\n"
     ]
    }
   ],
   "source": [
    "def selectionsort(arr,n):\n",
    "    for i in range(n):\n",
    "        mini=i\n",
    "        for j in range(n):\n",
    "             if arr[j]<arr[mini]:\n",
    "                 j=mini \n",
    "        arr[mini],arr[i]=arr[i],arr[mini]\n",
    "        \n",
    "    return arr \n",
    "print(selectionsort(arr,n))\n",
    "            "
   ]
  },
  {
   "cell_type": "code",
   "execution_count": 45,
   "metadata": {},
   "outputs": [
    {
     "name": "stdout",
     "output_type": "stream",
     "text": [
      "[2, 3, 4, 7, 9, 21]\n"
     ]
    }
   ],
   "source": [
    "def bubbleSort( arr, n):\n",
    "        for i in range(n):\n",
    "            for j in range(n-i-1):\n",
    "                if arr[j]>arr[j+1]:\n",
    "                    arr[j],arr[j+1]=arr[j+1],arr[j]\n",
    "                    \n",
    "        return arr\n",
    "\n",
    "print(bubbleSort(arr,n))"
   ]
  },
  {
   "cell_type": "code",
   "execution_count": null,
   "metadata": {},
   "outputs": [],
   "source": []
  },
  {
   "cell_type": "code",
   "execution_count": 46,
   "metadata": {},
   "outputs": [
    {
     "name": "stdout",
     "output_type": "stream",
     "text": [
      "[2, 3, 4, 7, 9, 21]\n"
     ]
    }
   ],
   "source": [
    "def insertionsort(arr):\n",
    "    for i in range(n):\n",
    "        j=i \n",
    "        while j>0 and arr[j-1]>arr[j]:\n",
    "            arr[j-1],arr[j]=arr[j],arr[j-1]\n",
    "    return arr\n",
    "\n",
    "print(insertionsort(arr))\n",
    "            \n",
    "        \n",
    "\n",
    "\n",
    "    "
   ]
  },
  {
   "cell_type": "code",
   "execution_count": 47,
   "metadata": {},
   "outputs": [],
   "source": [
    "\n",
    "def mergesort(arr):\n",
    "    if len(arr)<=1:\n",
    "        return\n",
    "    mid=len(arr)//2\n",
    "    a1=arr[0:mid]\n",
    "    a2=arr[mid:]\n",
    "    mergesort(a1)\n",
    "    mergesort(a2)\n",
    "    merge(a1,a2,arr)\n",
    "    \n",
    "    \n",
    "def merge(a1,a2,arr):\n",
    "    i,j,k=0,0,0\n",
    "    while i<len(a1) and j<len(a2):\n",
    "           if a1[i]<a2[j]:\n",
    "               arr[k]=a1[i]\n",
    "               i+=1 \n",
    "               k+=1\n",
    "           else:\n",
    "               \n",
    "               arr[k]=a2[j]\n",
    "               j+=1\n",
    "               k+=1\n",
    "           \n",
    "        \n",
    "    while i<len(a1) :\n",
    "        arr[k]=a1[i]\n",
    "        k+=1\n",
    "        i+=1\n",
    "\n",
    "    while j<len(a2):\n",
    "        arr[k]=a2[j]\n",
    "        k+=1\n",
    "        j+=1\n",
    "        \n",
    "\n",
    "\n",
    " \n",
    "            \n",
    "               \n",
    "               \n",
    "        \n",
    "        \n",
    "        "
   ]
  },
  {
   "cell_type": "code",
   "execution_count": 48,
   "metadata": {},
   "outputs": [
    {
     "data": {
      "text/plain": [
       "[1, 3, 4, 5, 7, 9, 10]"
      ]
     },
     "execution_count": 48,
     "metadata": {},
     "output_type": "execute_result"
    }
   ],
   "source": [
    "arr1=[6,4,8,90,2,0,1]\n",
    "arr=[10,5,3,1,7,9,4]\n",
    "mergesort(arr)       \n",
    "arr "
   ]
  },
  {
   "cell_type": "code",
   "execution_count": 7,
   "metadata": {},
   "outputs": [],
   "source": [
    "def quicksort(a,si,ei):\n",
    "    if si>ei:\n",
    "        return \n",
    "    #i is the pivot index \n",
    "    i=partition(a,si,ei)\n",
    "    quicksort(a,si,i-1)\n",
    "    quicksort(a,i+1,ei)\n",
    "    \n",
    "    \n",
    "def partition(arr,si,ei):\n",
    "    c=0\n",
    "    pivot=arr[si]\n",
    "    for i in range(si,ei+1):\n",
    "        if arr[i]<pivot:\n",
    "            c+=1\n",
    "    arr[si+c],arr[si]=arr[si],arr[si+c] \n",
    "    pivot_index=si+c\n",
    "    \n",
    "    i=si\n",
    "    j=ei\n",
    "    \n",
    "    while i<j:\n",
    "        \n",
    "        if arr[i]<pivot:\n",
    "            i+=1\n",
    "        elif arr[j]>pivot:\n",
    "            j-=1\n",
    "        else:\n",
    "            arr[i],arr[j]=arr[j],arr[i]\n",
    "            i+=1\n",
    "            j-=1\n",
    "    return pivot_index"
   ]
  },
  {
   "cell_type": "code",
   "execution_count": 8,
   "metadata": {},
   "outputs": [
    {
     "data": {
      "text/plain": [
       "[0, 1, 2, 2, 3, 5, 1, 5, 7, 89]"
      ]
     },
     "execution_count": 8,
     "metadata": {},
     "output_type": "execute_result"
    }
   ],
   "source": [
    "a=[3,5,2,1,5,7,2,1,0,89]\n",
    "quicksort(a,0,len(a)-1)\n",
    "a"
   ]
  },
  {
   "cell_type": "code",
   "execution_count": 12,
   "metadata": {},
   "outputs": [
    {
     "name": "stdout",
     "output_type": "stream",
     "text": [
      "[1, 3, 5, 7, 9, 20]\n",
      "None\n",
      "[1, 3, 5, 7, 9, 20, 10]\n"
     ]
    }
   ],
   "source": [
    "def ul(pl):\n",
    "    return pl.append(10)\n",
    "\n",
    "\n",
    "y=[1,3,5,7,9]\n",
    "ans=y.append(20)\n",
    "print(y)\n",
    "z=ul(y)\n",
    "print(z)\n",
    "print(y)"
   ]
  },
  {
   "cell_type": "code",
   "execution_count": 7,
   "metadata": {},
   "outputs": [
    {
     "name": "stdout",
     "output_type": "stream",
     "text": [
      "<class 'NoneType'>\n"
     ]
    }
   ],
   "source": [
    "print(type(ul([1,2,3,4])))\n"
   ]
  },
  {
   "cell_type": "code",
   "execution_count": null,
   "metadata": {},
   "outputs": [],
   "source": []
  }
 ],
 "metadata": {
  "kernelspec": {
   "display_name": "Python 3",
   "language": "python",
   "name": "python3"
  },
  "language_info": {
   "codemirror_mode": {
    "name": "ipython",
    "version": 3
   },
   "file_extension": ".py",
   "mimetype": "text/x-python",
   "name": "python",
   "nbconvert_exporter": "python",
   "pygments_lexer": "ipython3",
   "version": "3.10.5"
  },
  "orig_nbformat": 4
 },
 "nbformat": 4,
 "nbformat_minor": 2
}
