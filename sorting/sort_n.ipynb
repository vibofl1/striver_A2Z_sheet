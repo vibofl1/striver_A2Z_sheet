{
 "cells": [
  {
   "cell_type": "code",
   "execution_count": 11,
   "metadata": {},
   "outputs": [
    {
     "name": "stdout",
     "output_type": "stream",
     "text": [
      "[5, 3, 2, 1, 6, 9]\n"
     ]
    }
   ],
   "source": [
    "arr=[5,3,2,1,6,9]\n",
    "\n",
    "\n",
    "#select min element and swap coressponding order\n",
    "\n",
    "def swap(x,y):\n",
    "    temp=x \n",
    "    x=y \n",
    "    y=temp \n",
    "    \n",
    "    \n",
    "\n",
    "def selectionsort(arr):\n",
    "    n=len(arr)\n",
    "    for i in range(n):\n",
    "        mini=i\n",
    "        for j in range(i+1,n):\n",
    "            if arr[mini]>arr[j]:\n",
    "                mini=j \n",
    "        swap(arr[i],arr[mini])\n",
    "        # arr[i],arr[mini]=arr[mini],arr[i]\n",
    "    \n",
    "    return arr\n",
    "    \n",
    "\n",
    "print(selectionsort(arr))\n",
    " \n",
    "    \n",
    "\n",
    "        \n",
    "        \n",
    "        \n",
    "                \n",
    "        \n",
    "        "
   ]
  },
  {
   "cell_type": "code",
   "execution_count": 9,
   "metadata": {},
   "outputs": [
    {
     "name": "stdout",
     "output_type": "stream",
     "text": [
      "[1, 2, 3, 5, 6, 9]\n"
     ]
    }
   ],
   "source": [
    "# pushes  max element to last postition by adjacent postiion \n",
    " \n",
    "\n",
    "\n",
    "def bubblesort(arr):\n",
    "    n=len(arr)\n",
    "    for  i in range(n):\n",
    "        for j in range(n-i-1):\n",
    "            if arr[i]>arr[j]:\n",
    "                temp=arr[i]\n",
    "                arr[i]=arr[j]\n",
    "                arr[j]=temp \n",
    "                \n",
    "    return arr \n",
    "\n",
    "\n",
    "print(selectionsort(arr))\n",
    "    "
   ]
  },
  {
   "cell_type": "code",
   "execution_count": 12,
   "metadata": {},
   "outputs": [
    {
     "name": "stdout",
     "output_type": "stream",
     "text": [
      "[3, 2, 1, 5, 6, 9]\n"
     ]
    }
   ],
   "source": [
    "\n",
    "# takes a element places it in correct postion \n",
    "\n",
    "def insertion_sort(arr):\n",
    "    n=len(arr)\n",
    "    \n",
    "    for i in range(n):\n",
    "        j=i \n",
    "        while arr[j]<arr[j-1] and j>0 :\n",
    "                temp=arr[j-1]\n",
    "                arr[j-1]=arr[j]\n",
    "                arr[j]=temp \n",
    "        \n",
    "    return arr\n",
    "\n",
    "print(insertion_sort(arr))\n",
    "            \n",
    "        \n",
    "        "
   ]
  },
  {
   "cell_type": "code",
   "execution_count": 13,
   "metadata": {},
   "outputs": [
    {
     "name": "stdout",
     "output_type": "stream",
     "text": [
      "Before swapping: \n",
      "Value of x :  5  and y :  10\n",
      "After swapping: \n",
      "Value of x :  10  and y :  5\n"
     ]
    }
   ],
   "source": [
    "x = 5  # x = 0101\n",
    "y = 10 # y = 1010\n",
    " \n",
    "print (\"Before swapping: \")\n",
    "print(\"Value of x : \", x, \" and y : \", y)\n",
    " \n",
    "# Swap code\n",
    "x = x^y # x = 1111, y = 1010\n",
    "y = x^y # y = 0101, x = 1111\n",
    "x =x^y # x = 1010, y = 0101\n",
    " \n",
    "print (\"After swapping: \")\n",
    "print(\"Value of x : \", x, \" and y : \", y)"
   ]
  },
  {
   "cell_type": "code",
   "execution_count": 14,
   "metadata": {},
   "outputs": [
    {
     "ename": "SyntaxError",
     "evalue": "leading zeros in decimal integer literals are not permitted; use an 0o prefix for octal integers (792830860.py, line 4)",
     "output_type": "error",
     "traceback": [
      "\u001b[0;36m  Input \u001b[0;32mIn [14]\u001b[0;36m\u001b[0m\n\u001b[0;31m    x=x^y   01\u001b[0m\n\u001b[0m            ^\u001b[0m\n\u001b[0;31mSyntaxError\u001b[0m\u001b[0;31m:\u001b[0m leading zeros in decimal integer literals are not permitted; use an 0o prefix for octal integers\n"
     ]
    }
   ],
   "source": [
    "2 -> 10\n",
    "3 -> 11 \n",
    "\n",
    "x=x^y   01 \n",
    "y=x^y   10  \n",
    "x=x^y   11 \n",
    "\n",
    "\n",
    "\n"
   ]
  },
  {
   "cell_type": "code",
   "execution_count": null,
   "metadata": {},
   "outputs": [],
   "source": [
    "x=x+y \n",
    "y=x-y \n",
    "\n",
    "x=x-y \n",
    "\n",
    "\n",
    "x,y=y,x "
   ]
  },
  {
   "cell_type": "code",
   "execution_count": 17,
   "metadata": {},
   "outputs": [
    {
     "name": "stdout",
     "output_type": "stream",
     "text": [
      "sum is  9\n"
     ]
    }
   ],
   "source": [
    "class addition:\n",
    "    def add(self,x,y) :\n",
    "        print(\"sum is :\",x+y)\n",
    "        \n",
    "    def add(self,x,y,z):\n",
    "        print(\"sum is \",x+y+z)\n",
    "    \n",
    "ad=addition() \n",
    "ad.add(2,3,4)   \n",
    "\n",
    "\n",
    "\n",
    "    \n",
    "\n",
    "        "
   ]
  },
  {
   "cell_type": "code",
   "execution_count": null,
   "metadata": {},
   "outputs": [],
   "source": []
  }
 ],
 "metadata": {
  "kernelspec": {
   "display_name": "Python 3",
   "language": "python",
   "name": "python3"
  },
  "language_info": {
   "codemirror_mode": {
    "name": "ipython",
    "version": 3
   },
   "file_extension": ".py",
   "mimetype": "text/x-python",
   "name": "python",
   "nbconvert_exporter": "python",
   "pygments_lexer": "ipython3",
   "version": "3.10.5"
  },
  "orig_nbformat": 4
 },
 "nbformat": 4,
 "nbformat_minor": 2
}
