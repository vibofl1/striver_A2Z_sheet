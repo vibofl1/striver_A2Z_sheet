{
 "cells": [
  {
   "cell_type": "code",
   "execution_count": 7,
   "metadata": {},
   "outputs": [
    {
     "name": "stdout",
     "output_type": "stream",
     "text": [
      "2 3 5 7 11 13 17 19 23 25 \n",
      "2 3 5 7 11 13 17 19 23 29 31 37 41 43 47 "
     ]
    }
   ],
   "source": [
    "import math \n",
    "\n",
    "def prime_seive(n):\n",
    "    hash=[1]*(n+1)\n",
    "    #creating a hash from 0 to n\n",
    "    \n",
    "    hash[0]=0\n",
    "    hash[1]=0\n",
    "    \n",
    "    # marking 0 and 1 as 0 as they are not prime \n",
    "    p=2 \n",
    "    while p<math.sqrt(n):  # till p<sqrt(n) \n",
    "        if hash[p]!=0 and p!=0:\n",
    "            #updating all  multiples of p as 0  starting from 2p \n",
    "            for i in range(p*2,n+1,p):\n",
    "                hash[i]=0 \n",
    "        p+=1 \n",
    "    \n",
    "    for i in range(n+1):\n",
    "        if  hash[i]==1:\n",
    "            print(i,end=\" \")\n",
    "    \n",
    "    \n",
    "            \n",
    "            \n",
    "prime_seive(25)   \n",
    "print()\n",
    "prime_seive(50)   \n",
    "        \n",
    "    "
   ]
  },
  {
   "cell_type": "code",
   "execution_count": null,
   "metadata": {},
   "outputs": [],
   "source": []
  }
 ],
 "metadata": {
  "kernelspec": {
   "display_name": "Python 3",
   "language": "python",
   "name": "python3"
  },
  "language_info": {
   "codemirror_mode": {
    "name": "ipython",
    "version": 3
   },
   "file_extension": ".py",
   "mimetype": "text/x-python",
   "name": "python",
   "nbconvert_exporter": "python",
   "pygments_lexer": "ipython3",
   "version": "3.10.5"
  },
  "orig_nbformat": 4
 },
 "nbformat": 4,
 "nbformat_minor": 2
}
