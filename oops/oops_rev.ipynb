{
 "cells": [
  {
   "cell_type": "code",
   "execution_count": 56,
   "metadata": {},
   "outputs": [],
   "source": [
    "#class and object \n",
    "class Rectangle :\n",
    "    \n",
    "    def __init__(self,length=0,breadth=0):\n",
    "        \n",
    "        self.length=length\n",
    "        self.breadth=breadth \n",
    "        \n",
    "    def Area(self):\n",
    "        \n",
    "        print(\"Area is :\",self.length*self.breadth)\n",
    "        \n",
    "    def getter(self):\n",
    "        return self.length\n",
    "    \n",
    "    def setter(self,l):\n",
    "        self.length=l\n",
    "        \n",
    "    \n",
    "    def Perimeter(self):\n",
    "        print(\"perimeter is :\", 2*(self.length+self.breadth))\n",
    "    \n",
    "    @staticmethod\n",
    "    def details():\n",
    "        print(\"Hello this is a class for rectangle\")\n",
    "        \n",
    "        \n",
    "    @classmethod\n",
    "    def rec_msg(cls,length):\n",
    "        return cls(length)\n",
    "        \n",
    "        \n",
    "        \n",
    "        \n",
    "        \n"
   ]
  },
  {
   "cell_type": "code",
   "execution_count": 28,
   "metadata": {},
   "outputs": [
    {
     "ename": "TypeError",
     "evalue": "Rectangle.details() takes 0 positional arguments but 1 was given",
     "output_type": "error",
     "traceback": [
      "\u001b[0;31m---------------------------------------------------------------------------\u001b[0m",
      "\u001b[0;31mTypeError\u001b[0m                                 Traceback (most recent call last)",
      "\u001b[1;32m/Users/vib/Documents/g_codes/Strivers A2Z DSA Sheet in cpp and python/oops/oops_rev.ipynb Cell 2\u001b[0m in \u001b[0;36m<cell line: 1>\u001b[0;34m()\u001b[0m\n\u001b[0;32m----> <a href='vscode-notebook-cell:/Users/vib/Documents/g_codes/Strivers%20A2Z%20DSA%20Sheet%20in%20cpp%20and%20python/oops/oops_rev.ipynb#W5sZmlsZQ%3D%3D?line=0'>1</a>\u001b[0m r1\u001b[39m.\u001b[39;49mdetails()\n",
      "\u001b[0;31mTypeError\u001b[0m: Rectangle.details() takes 0 positional arguments but 1 was given"
     ]
    }
   ],
   "source": [
    "r1.details()\n",
    "# without decorator \n",
    "@staticmethod"
   ]
  },
  {
   "cell_type": "code",
   "execution_count": 47,
   "metadata": {},
   "outputs": [
    {
     "name": "stdout",
     "output_type": "stream",
     "text": [
      "Area is : 200\n",
      "perimeter is : 60\n",
      "Hello this is a class for rectangle\n",
      "10\n",
      "10\n"
     ]
    },
    {
     "data": {
      "text/plain": [
       "{'_Rectangle__length': 10, 'breadth': 20}"
      ]
     },
     "execution_count": 47,
     "metadata": {},
     "output_type": "execute_result"
    }
   ],
   "source": [
    "r1=Rectangle(10,20)\n",
    "# r1.length=35\n",
    "r1.Area()\n",
    "r1.Perimeter()\n",
    "r1.details()\n",
    " \n",
    "\n",
    "# print(r1.length)\n",
    "print(r1.getter())\n",
    "\n",
    "# name mangling \n",
    "print(r1._Rectangle__length)\n",
    "\n",
    "\n",
    "# to view  the attributes  we write \n",
    "r1.__dict__\n"
   ]
  },
  {
   "cell_type": "code",
   "execution_count": 22,
   "metadata": {},
   "outputs": [
    {
     "name": "stdout",
     "output_type": "stream",
     "text": [
      "[10, 20]\n",
      "[10, 20, 30]\n",
      "['apple', 'banana', 'cherry', 'orange']\n"
     ]
    }
   ],
   "source": [
    "#shallow copy \n",
    "arr=[10,20]\n",
    "secondarray=arr \n",
    "print(arr)\n",
    "secondarray.append(30)\n",
    "print(arr)\n",
    "\n",
    "import copy \n",
    "fruits = ['apple', 'banana', 'cherry', 'orange']\n",
    "\n",
    "\n",
    "\n",
    "# Syntax of Shallow copy\n",
    "\n",
    "# Syntax: copy.copy(x)"
   ]
  },
  {
   "cell_type": "code",
   "execution_count": 21,
   "metadata": {},
   "outputs": [
    {
     "name": "stdout",
     "output_type": "stream",
     "text": [
      "[10, 20]\n",
      "[10, 20]\n"
     ]
    }
   ],
   "source": [
    "# DEEP COPY \n",
    "# Syntax: copy.deepcopy(x)\n",
    "arr=[10,20]\n",
    "s_arr=arr[:]\n",
    "print(arr)\n",
    "s_arr.append(30 )\n",
    "print(arr)"
   ]
  },
  {
   "cell_type": "code",
   "execution_count": 36,
   "metadata": {},
   "outputs": [
    {
     "ename": "TypeError",
     "evalue": "Rectangle.rec_msg() takes 0 positional arguments but 2 were given",
     "output_type": "error",
     "traceback": [
      "\u001b[0;31m---------------------------------------------------------------------------\u001b[0m",
      "\u001b[0;31mTypeError\u001b[0m                                 Traceback (most recent call last)",
      "\u001b[1;32m/Users/vib/Documents/g_codes/Strivers A2Z DSA Sheet in cpp and python/oops/oops_rev.ipynb Cell 6\u001b[0m in \u001b[0;36m<cell line: 1>\u001b[0;34m()\u001b[0m\n\u001b[0;32m----> <a href='vscode-notebook-cell:/Users/vib/Documents/g_codes/Strivers%20A2Z%20DSA%20Sheet%20in%20cpp%20and%20python/oops/oops_rev.ipynb#W4sZmlsZQ%3D%3D?line=0'>1</a>\u001b[0m r1\u001b[39m.\u001b[39;49mrec_msg(\u001b[39m20\u001b[39;49m)\n",
      "\u001b[0;31mTypeError\u001b[0m: Rectangle.rec_msg() takes 0 positional arguments but 2 were given"
     ]
    }
   ],
   "source": [
    " "
   ]
  },
  {
   "cell_type": "code",
   "execution_count": 52,
   "metadata": {},
   "outputs": [],
   "source": [
    "class Fraction:\n",
    "    def __init__(self,num=1,den=1)  :\n",
    "        \n",
    "        self.num=num \n",
    "        self.den=den\n",
    "        \n",
    "    def  detail(self):\n",
    "        print(self.num ,\"/\",self.den)\n",
    "     \n",
    "         "
   ]
  },
  {
   "cell_type": "code",
   "execution_count": 55,
   "metadata": {},
   "outputs": [
    {
     "name": "stdout",
     "output_type": "stream",
     "text": [
      "3 / 5\n"
     ]
    }
   ],
   "source": [
    "fr=Fraction(3,5)\n",
    "# number=fr.frac()\n",
    "# print(number)\n",
    "fr.detail()\n",
    "    "
   ]
  },
  {
   "cell_type": "code",
   "execution_count": 59,
   "metadata": {},
   "outputs": [],
   "source": [
    "\n",
    "class Cuboid(Rectangle):\n",
    "    def __init__(self, length=0, breadth=0,height=0):\n",
    "         super().__init__(length,breadth)\n",
    "         self.height=height \n",
    "    def volume(self):\n",
    "        print(\"volume is :\",self.length*self.breadth*self.height)"
   ]
  },
  {
   "cell_type": "code",
   "execution_count": 60,
   "metadata": {},
   "outputs": [
    {
     "name": "stdout",
     "output_type": "stream",
     "text": [
      "volume is : 60\n"
     ]
    }
   ],
   "source": [
    "c=Cuboid(5,6,2)\n",
    "c.volume()"
   ]
  },
  {
   "cell_type": "code",
   "execution_count": null,
   "metadata": {},
   "outputs": [],
   "source": [
    "#diamond Problem \n",
    "\n",
    "class A:\n",
    "    def show(self):\n",
    "        print(\"Class A\")\n",
    "\n",
    "class B(A):\n",
    "    def show(self):\n",
    "        print(\"Class B\")\n",
    "\n",
    "class C(A):\n",
    "    def show(self):\n",
    "        print(\"Class C\")\n",
    "\n",
    "class D(B, C):\n",
    "    pass\n",
    "\n",
    "d = D()\n",
    "d.show()\n"
   ]
  },
  {
   "cell_type": "code",
   "execution_count": 61,
   "metadata": {},
   "outputs": [
    {
     "name": "stdout",
     "output_type": "stream",
     "text": [
      "Area: 78.53975\n",
      "Perimeter: 31.4159\n",
      "\n",
      "Area: 24\n",
      "Perimeter: 20\n",
      "\n"
     ]
    }
   ],
   "source": [
    "# @abstract class\n",
    "\n",
    "from abc import ABC, abstractmethod\n",
    "\n",
    "class Shape(ABC):\n",
    "    @abstractmethod\n",
    "    def area(self):\n",
    "        pass\n",
    "\n",
    "    @abstractmethod\n",
    "    def perimeter(self):\n",
    "        pass\n",
    "\n",
    "class Circle(Shape):\n",
    "    def __init__(self, radius):\n",
    "        self.radius = radius\n",
    "    \n",
    "    def area(self):\n",
    "        return 3.14159 * self.radius ** 2\n",
    "    \n",
    "    def perimeter(self):\n",
    "        return 2 * 3.14159 * self.radius\n",
    "\n",
    "class Rectangle(Shape):\n",
    "    def __init__(self, width, height):\n",
    "        self.width = width\n",
    "        self.height = height\n",
    "    \n",
    "    def area(self):\n",
    "        return self.width * self.height\n",
    "    \n",
    "    def perimeter(self):\n",
    "        return 2 * (self.width + self.height)\n",
    "\n",
    "# Creating objects and using the interface-like structure\n",
    "circle = Circle(5)\n",
    "rectangle = Rectangle(4, 6)\n",
    "\n",
    "shapes = [circle, rectangle]\n",
    "\n",
    "for shape in shapes:\n",
    "    print(\"Area:\", shape.area())\n",
    "    print(\"Perimeter:\", shape.perimeter())\n",
    "    print()\n"
   ]
  },
  {
   "cell_type": "code",
   "execution_count": null,
   "metadata": {},
   "outputs": [],
   "source": []
  }
 ],
 "metadata": {
  "kernelspec": {
   "display_name": "Python 3",
   "language": "python",
   "name": "python3"
  },
  "language_info": {
   "codemirror_mode": {
    "name": "ipython",
    "version": 3
   },
   "file_extension": ".py",
   "mimetype": "text/x-python",
   "name": "python",
   "nbconvert_exporter": "python",
   "pygments_lexer": "ipython3",
   "version": "3.10.5"
  },
  "orig_nbformat": 4
 },
 "nbformat": 4,
 "nbformat_minor": 2
}
