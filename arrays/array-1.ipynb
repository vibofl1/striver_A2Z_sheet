{
 "cells": [
  {
   "cell_type": "code",
   "execution_count": 5,
   "metadata": {},
   "outputs": [
    {
     "name": "stdout",
     "output_type": "stream",
     "text": [
      "Union of arr1 and arr2 is:\n",
      "1 2 3 4 5 6 7 8 9 10\n"
     ]
    }
   ],
   "source": [
    "\n",
    "\n",
    "#UNION OF TWO SORTED ARRAYS \n",
    "def find_union(arr1, arr2,m,n):\n",
    "    i,j=0,0\n",
    "    uni=[]\n",
    "    while i<m and j<n:\n",
    "        if arr1[i]<arr2[j]:\n",
    "            if len(uni)==0 or uni[-1]!=arr1[i]:\n",
    "                uni.append(arr1[i])\n",
    "            i+=1\n",
    "        else:\n",
    "            if len(uni)==0 or uni[-1]!=arr2[j]:\n",
    "                uni.append(arr2[j])\n",
    "            j+=1\n",
    "    while i<m:\n",
    "        if arr1[i]!=uni[-1]:\n",
    "            uni.append(arr1[i])\n",
    "        i+=1\n",
    "    while i<n:\n",
    "        if arr2[j]!=uni[-1]:\n",
    "            uni.append(arr2[j])\n",
    "        j+=1\n",
    "            \n",
    "            \n",
    "    return uni\n",
    "            \n",
    "\n",
    "arr1 = [1, 2, 3, 4, 5, 6, 7, 8, 9, 10]\n",
    "arr2 = [2, 3, 4, 4, 5, 11, 12]\n",
    "\n",
    "union = find_union(arr1, arr2,len(arr1),len(arr2))\n",
    "\n",
    "print(\"Union of arr1 and arr2 is:\")\n",
    "print(*union)\n"
   ]
  },
  {
   "cell_type": "code",
   "execution_count": 7,
   "metadata": {},
   "outputs": [],
   "source": [
    "#missing no in a array using xor\n",
    "\n",
    "\n"
   ]
  },
  {
   "cell_type": "code",
   "execution_count": 6,
   "metadata": {},
   "outputs": [
    {
     "ename": "SyntaxError",
     "evalue": "incomplete input (2436595866.py, line 7)",
     "output_type": "error",
     "traceback": [
      "\u001b[0;36m  Input \u001b[0;32mIn [6]\u001b[0;36m\u001b[0m\n\u001b[0;31m    \u001b[0m\n\u001b[0m    ^\u001b[0m\n\u001b[0;31mSyntaxError\u001b[0m\u001b[0;31m:\u001b[0m incomplete input\n"
     ]
    }
   ],
   "source": [
    "#Find the number that appears once, and the other numbers twice\n",
    "\n",
    "\n",
    "arr=[1,4,4,5,7,7,5,8,1,2]\n",
    "\n",
    "def doubles(arr,n):\n",
    "    xor1=0\n",
    "    xor2=0\n",
    "    for i in range(n):\n",
    "        \n",
    "\n",
    "\n"
   ]
  },
  {
   "cell_type": "code",
   "execution_count": 8,
   "metadata": {},
   "outputs": [],
   "source": [
    "#Longest subarray which is equal to subarray k\n",
    "\n",
    "# bruteforce\n",
    "def lenOfLongSubarr (self, arr, n, k) : \n",
    "        mx=0\n",
    "        for i in range(n):\n",
    "            su=0\n",
    "            for j in range(i,n):\n",
    "                su+=arr[j]\n",
    "                if su==k:\n",
    "                     mx=max(mx,j-i+1)\n",
    "        return mx\n",
    "    \n",
    "    \n",
    " \n",
    " \n",
    "#NLOGN\n",
    "def subArraySum(self,a, n, k): \n",
    "        mp={}\n",
    "        s=0\n",
    "        end=-1\n",
    "        su=0\n",
    "        for i in range(n):\n",
    "            mp[su]=i\n",
    "            su+=a[i]\n",
    "            if (su- k) in mp:\n",
    "                s=mp.get(su -k) +1\n",
    "                end=i+1\n",
    "                break\n",
    "            \n",
    "        \n",
    "        if  end ==-1:\n",
    "            return [-1 ]\n",
    "        else:\n",
    "            return [s,end]\n",
    "        \n",
    "\n",
    "#nlogn \n",
    "# sum -k  which is in the map , k \n",
    "\n",
    "#total sum \n",
    "def lenOfLongSubarr (self, a , n, k) : \n",
    "        mp={}\n",
    "        s=0\n",
    "        su=0\n",
    "        mx=0\n",
    "        for i in range(n):\n",
    "            su+=a[i]\n",
    "            if su==k:\n",
    "                mx=max(mx,i+1)\n",
    "             \n",
    "            if (su- k) in mp:\n",
    "                s=mp.get(su -k)  \n",
    "                mx=max(mx,i-s)\n",
    "            \n",
    "            if su  not in mp:\n",
    "                mp[su]=i\n",
    "            \n",
    "        return mx \n",
    "   \n",
    " \n",
    " \n",
    "    "
   ]
  },
  {
   "cell_type": "code",
   "execution_count": null,
   "metadata": {},
   "outputs": [],
   "source": []
  }
 ],
 "metadata": {
  "kernelspec": {
   "display_name": "Python 3",
   "language": "python",
   "name": "python3"
  },
  "language_info": {
   "codemirror_mode": {
    "name": "ipython",
    "version": 3
   },
   "file_extension": ".py",
   "mimetype": "text/x-python",
   "name": "python",
   "nbconvert_exporter": "python",
   "pygments_lexer": "ipython3",
   "version": "3.10.5"
  },
  "orig_nbformat": 4
 },
 "nbformat": 4,
 "nbformat_minor": 2
}
