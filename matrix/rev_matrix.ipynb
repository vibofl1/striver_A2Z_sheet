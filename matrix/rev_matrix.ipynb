{
 "cells": [
  {
   "cell_type": "code",
   "execution_count": 5,
   "metadata": {},
   "outputs": [
    {
     "name": "stdout",
     "output_type": "stream",
     "text": [
      "[[1, 2, 3], [4, 5, 6], [7, 8, 9]]\n",
      "3 3\n"
     ]
    }
   ],
   "source": [
    "# taking input for a 2d array \n",
    "\n",
    "n=int(input())\n",
    "arr=[]\n",
    "for  i in range(n):\n",
    "    arr.append(list(map(int,input().split())))\n",
    "    \n",
    "print(arr)\n",
    "m=len(arr)#rows \n",
    "n=len(arr[0])# columns \n",
    "print(m,n)\n",
    "\n",
    "#mat=[[1, 2, 3], [4, 5, 6], [7, 8, 9]]"
   ]
  },
  {
   "cell_type": "code",
   "execution_count": 50,
   "metadata": {},
   "outputs": [
    {
     "name": "stdout",
     "output_type": "stream",
     "text": [
      "1 4 7 \n",
      "4 5 8 \n",
      "7 8 9 \n"
     ]
    }
   ],
   "source": [
    "#printing a matrix \n",
    "def print_m(arr):\n",
    "    for i in range(n):\n",
    "         for j in range(n):\n",
    "             print(arr[i][j],end=\" \")\n",
    "         print()\n",
    "print_m(arr)"
   ]
  },
  {
   "cell_type": "code",
   "execution_count": 17,
   "metadata": {},
   "outputs": [
    {
     "name": "stdout",
     "output_type": "stream",
     "text": [
      "1    \n",
      "4  5   \n",
      "7  8  9  \n"
     ]
    }
   ],
   "source": [
    "# printing lower triangle \n",
    "for i in range(n):\n",
    "    for j in range(n):\n",
    "        if i>=j :\n",
    "            print(arr[i][j],\" \",end=\"\")\n",
    "        else:\n",
    "            print(\" \",end=\"\")\n",
    "            \n",
    "    print()"
   ]
  },
  {
   "cell_type": "code",
   "execution_count": 22,
   "metadata": {},
   "outputs": [
    {
     "name": "stdout",
     "output_type": "stream",
     "text": [
      "1 2 3 \n",
      "  5 6 \n",
      "    9 \n",
      "sum is: 26\n"
     ]
    }
   ],
   "source": [
    "#printing sum of upper triangle\n",
    "su=0 \n",
    "\n",
    "for i in range(n):\n",
    "    for j in range(n):\n",
    "        if i<=j :\n",
    "            print(arr[i][j],end=\" \")\n",
    "            su+=arr[i][j]\n",
    "        else:\n",
    "            print(\" \",end=\" \")\n",
    "            \n",
    "    print()\n",
    "print(\"sum\",\"is:\",su)"
   ]
  },
  {
   "cell_type": "code",
   "execution_count": 24,
   "metadata": {},
   "outputs": [
    {
     "name": "stdout",
     "output_type": "stream",
     "text": [
      "1     \n",
      "  5   \n",
      "    9 \n",
      "sum is: 15\n"
     ]
    }
   ],
   "source": [
    "# printing diagonal elements \n",
    "\n",
    "su=0 \n",
    "\n",
    "for i in range(n):\n",
    "    for j in range(n):\n",
    "        if i==j :\n",
    "               print(arr[i][j],end=\" \")\n",
    "               su+=arr[i][j]\n",
    "        else:\n",
    "            print(\" \",end=\" \")\n",
    "            \n",
    "    \n",
    "            \n",
    "    print()\n",
    "print(\"sum\",\"is:\",su)"
   ]
  },
  {
   "cell_type": "code",
   "execution_count": 26,
   "metadata": {},
   "outputs": [
    {
     "name": "stdout",
     "output_type": "stream",
     "text": [
      "    3 \n",
      "  5   \n",
      "7     \n",
      "sum is: 15\n"
     ]
    }
   ],
   "source": [
    "#printing cross diagonal elements \n",
    "su=0 \n",
    "\n",
    "for i in range(n):\n",
    "    for j in range(n):\n",
    "        if i+j==n-1 :\n",
    "               print(arr[i][j],end=\" \")\n",
    "               su+=arr[i][j]\n",
    "        else:\n",
    "            print(\" \",end=\" \")\n",
    "            \n",
    "    \n",
    "            \n",
    "    print()\n",
    "print(\"sum\",\"is:\",su)"
   ]
  },
  {
   "cell_type": "code",
   "execution_count": 30,
   "metadata": {},
   "outputs": [
    {
     "name": "stdout",
     "output_type": "stream",
     "text": [
      "1   3 \n",
      "  5   \n",
      "7   9 \n",
      "sum is: 25\n"
     ]
    }
   ],
   "source": [
    "#sum of normal diagonal or  cross diagonal elements \n",
    "su=0 \n",
    "for i in range(n):\n",
    "    for j in range(n):\n",
    "        if i+j==n-1 or i==j :\n",
    "               print(arr[i][j],end=\" \")\n",
    "               su+=arr[i][j]\n",
    "        else:\n",
    "            print(\" \",end=\" \")\n",
    "    print()\n",
    "print(\"sum\",\"is:\",su)"
   ]
  },
  {
   "cell_type": "code",
   "execution_count": 51,
   "metadata": {},
   "outputs": [
    {
     "name": "stdout",
     "output_type": "stream",
     "text": [
      "[[1, 2, 3], [4, 5, 6], [7, 8, 9]]\n",
      "[[1, 2, 3], [2, 5, 6], [3, 6, 9]]\n",
      "1 2 3 \n",
      "2 5 6 \n",
      "3 6 9 \n"
     ]
    }
   ],
   "source": [
    "#transpose of a matrix\n",
    "\n",
    "tr=[[1, 2, 3], [4, 5, 6], [7, 8, 9]]\n",
    "print(tr)\n",
    "for i in range(n):\n",
    "    for j in range(n):\n",
    "        \n",
    "        if i>=j:\n",
    "            tr[i][j]=tr[j][i]\n",
    "print(tr)\n",
    "        \n",
    "print_m(tr)"
   ]
  },
  {
   "cell_type": "code",
   "execution_count": null,
   "metadata": {},
   "outputs": [],
   "source": [
    "\n",
    " \n",
    "# sum of each column \n",
    "# \n",
    "\n",
    "\n"
   ]
  },
  {
   "cell_type": "code",
   "execution_count": 52,
   "metadata": {},
   "outputs": [
    {
     "name": "stdout",
     "output_type": "stream",
     "text": [
      "6\n",
      "15\n",
      "24\n"
     ]
    }
   ],
   "source": [
    "#print sum of each row \n",
    "arr=[[1, 2, 3], [4, 5, 6], [7, 8, 9]]\n",
    "for  i in range(n):\n",
    "    su=0\n",
    "    for j in range(n):\n",
    "        su+=arr[i][j]\n",
    "    print(su)\n"
   ]
  },
  {
   "cell_type": "code",
   "execution_count": 53,
   "metadata": {},
   "outputs": [
    {
     "name": "stdout",
     "output_type": "stream",
     "text": [
      "1\n",
      "4\n",
      "7\n"
     ]
    }
   ],
   "source": [
    "# minimum of each row\n",
    "for i in range(n):\n",
    "    mi=arr[i][0]\n",
    "    for j in range(n):\n",
    "        if arr[i][j]<mi:\n",
    "            mi=arr[i][j]\n",
    "    print(mi)\n",
    "    "
   ]
  },
  {
   "cell_type": "code",
   "execution_count": 60,
   "metadata": {},
   "outputs": [
    {
     "name": "stdout",
     "output_type": "stream",
     "text": [
      "1  \n",
      "4  \n",
      "7  \n",
      "2  \n",
      "5  \n",
      "8  \n",
      "3  \n",
      "6  \n",
      "9  \n",
      "sum of a row is: 18 3\n"
     ]
    }
   ],
   "source": [
    "#print sum of each colum max sum\n",
    "mx=0\n",
    "res=0\n",
    "for  i in range(n):\n",
    "    su=0\n",
    "    for  j in range(n):\n",
    "        print(arr[j][i],\" \")\n",
    "        su+=arr[j][i]\n",
    "    mx=max(su,mx)\n",
    "    if mx==su:\n",
    "        res=i\n",
    "        \n",
    "print(\"sum of a row is:\" ,mx,res+1)\n",
    "\n",
    "        \n",
    "        "
   ]
  },
  {
   "cell_type": "code",
   "execution_count": null,
   "metadata": {},
   "outputs": [],
   "source": []
  },
  {
   "cell_type": "code",
   "execution_count": null,
   "metadata": {},
   "outputs": [],
   "source": []
  }
 ],
 "metadata": {
  "kernelspec": {
   "display_name": "Python 3",
   "language": "python",
   "name": "python3"
  },
  "language_info": {
   "codemirror_mode": {
    "name": "ipython",
    "version": 3
   },
   "file_extension": ".py",
   "mimetype": "text/x-python",
   "name": "python",
   "nbconvert_exporter": "python",
   "pygments_lexer": "ipython3",
   "version": "3.10.5"
  },
  "orig_nbformat": 4
 },
 "nbformat": 4,
 "nbformat_minor": 2
}
