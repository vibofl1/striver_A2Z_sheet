{
 "cells": [
  {
   "cell_type": "code",
   "execution_count": 129,
   "metadata": {},
   "outputs": [],
   "source": [
    "# creation of  ll\n",
    "\n",
    "class Node():\n",
    "    def __init__(self,data) :\n",
    "        self.data=data \n",
    "        self.next=None\n",
    "        \n",
    "        \n",
    "def createll(arr):\n",
    "    tail=None\n",
    "    head=None \n",
    "    for  x in arr:\n",
    "        newnode=Node(x)\n",
    "        if head is None:\n",
    "            head=newnode\n",
    "            tail=newnode\n",
    "        else:\n",
    "            tail.next=newnode\n",
    "            tail=newnode\n",
    "    \n",
    "    return head \n",
    "\n",
    "def insert_at_first( head,x):\n",
    "    newnode=Node(x)\n",
    "    newnode.next=head\n",
    "    head=newnode\n",
    "    return head \n",
    "\n",
    "\n",
    "    \n",
    "def printll(head):\n",
    "     \n",
    "    while head!= None:\n",
    "        print(head.data ,\" -> \",end=\"\")\n",
    "        head=head.next\n",
    "        \n",
    "    print(\"None\")\n",
    "    "
   ]
  },
  {
   "cell_type": "code",
   "execution_count": 130,
   "metadata": {},
   "outputs": [
    {
     "name": "stdout",
     "output_type": "stream",
     "text": [
      "1  -> 2  -> 3  -> 4  -> 5  -> 6  -> None\n"
     ]
    }
   ],
   "source": [
    "arr=[1,2,3,4,5,6] \n",
    "head=createll(arr)\n",
    "printll(head)"
   ]
  },
  {
   "cell_type": "code",
   "execution_count": 131,
   "metadata": {},
   "outputs": [
    {
     "name": "stdout",
     "output_type": "stream",
     "text": [
      "30  -> 20  -> 10  -> 1  -> 2  -> 3  -> 4  -> 5  -> 6  -> None\n"
     ]
    }
   ],
   "source": [
    "head=insert_at_first(head,10)\n",
    "\n",
    "head=insert_at_first(head,20)\n",
    "head=insert_at_first(head,30)\n",
    "printll(head)"
   ]
  },
  {
   "cell_type": "code",
   "execution_count": 132,
   "metadata": {},
   "outputs": [
    {
     "name": "stdout",
     "output_type": "stream",
     "text": [
      "30  -> 20  -> 10  -> 1  -> 29  -> 2  -> 3  -> 4  -> 5  -> 6  -> None\n",
      "31  -> 30  -> 20  -> 10  -> 1  -> 29  -> 2  -> 3  -> 4  -> 5  -> 6  -> None\n"
     ]
    }
   ],
   "source": [
    "#with using prev and curr \n",
    "def insert_at_pos(head,x,pos):\n",
    "    newnode=Node(x)\n",
    "    i=1\n",
    "    prev=head\n",
    "    curr=head\n",
    "    if pos==1:\n",
    "        newnode.next=head \n",
    "        head=newnode\n",
    "        \n",
    "    else:\n",
    "        while i<pos   :\n",
    "            prev=curr\n",
    "            curr=curr.next\n",
    "            i+=1\n",
    "        prev.next=newnode\n",
    "        newnode.next=curr\n",
    "        \n",
    "    return head\n",
    "head =insert_at_pos(head,29,5)\n",
    "printll(head)\n",
    "head =insert_at_pos(head,31,1)\n",
    "printll(head)\n"
   ]
  },
  {
   "cell_type": "code",
   "execution_count": 134,
   "metadata": {},
   "outputs": [
    {
     "name": "stdout",
     "output_type": "stream",
     "text": [
      "5 H\n",
      "31  -> 30  -> 20  -> 10  -> 1  -> 29  -> 2  -> 3  -> 4  -> 5  -> 44  -> 30  -> 6  -> None\n"
     ]
    }
   ],
   "source": [
    "def insert_after_a_node(head,x,key):\n",
    "    \n",
    "    newnode=Node(x)\n",
    "    curr=head\n",
    "    \n",
    "    while curr.data!=key  and curr!=None:\n",
    "            curr=curr.next\n",
    "            \n",
    "    print(curr.data,\"H\")        \n",
    "    newnode.next=curr.next\n",
    "    curr.next=newnode\n",
    "     \n",
    "    return head \n",
    "\n",
    "    \n",
    "    \n",
    "    \n",
    "head=insert_after_a_node(head,44,5)\n",
    "printll(head)\n",
    "        \n",
    "\n",
    "    "
   ]
  },
  {
   "cell_type": "code",
   "execution_count": 138,
   "metadata": {},
   "outputs": [
    {
     "name": "stdout",
     "output_type": "stream",
     "text": [
      "13\n"
     ]
    }
   ],
   "source": [
    "def length_ll(head):\n",
    "    i=0\n",
    "    while head!=None:\n",
    "        head=head.next\n",
    "        i+=1\n",
    "         \n",
    "    return i\n",
    "\n",
    "print(length_ll(head))"
   ]
  },
  {
   "cell_type": "code",
   "execution_count": 151,
   "metadata": {},
   "outputs": [
    {
     "name": "stdout",
     "output_type": "stream",
     "text": [
      "10  -> 1  -> 29  -> 2  -> 3  -> 4  -> 5  -> 44  -> 30  -> 6  -> None\n"
     ]
    }
   ],
   "source": [
    "def delete_at_ith_index(head,pos):\n",
    "    i=1\n",
    "    prev=None \n",
    "    curr=head\n",
    "    if i==1:\n",
    "        head=head.next\n",
    "    else:    \n",
    "        while i< pos and curr!=None:\n",
    "            prev=curr \n",
    "            curr=curr.next\n",
    "            i+=1\n",
    "        prev.next=curr.next\n",
    "    \n",
    "    return head \n",
    "head=delete_at_ith_index(head,1)\n",
    "printll(head)\n",
    "        "
   ]
  },
  {
   "cell_type": "code",
   "execution_count": 152,
   "metadata": {},
   "outputs": [],
   "source": [
    "#using three pointers prev curr next \n",
    "\n",
    "def reversell(head):\n",
    "    prev=None\n",
    "    curr=head \n",
    "    while curr:\n",
    "        next=curr.next\n",
    "        curr.next=prev \n",
    "        prev=curr \n",
    "        curr=next \n",
    "        \n",
    "    head=prev \n",
    "    \n",
    "    return head "
   ]
  },
  {
   "cell_type": "code",
   "execution_count": 153,
   "metadata": {},
   "outputs": [
    {
     "name": "stdout",
     "output_type": "stream",
     "text": [
      "6  -> 30  -> 44  -> 5  -> 4  -> 3  -> 2  -> 29  -> 1  -> 10  -> None\n"
     ]
    }
   ],
   "source": [
    "head= reversell(head)\n",
    "printll(head)"
   ]
  },
  {
   "cell_type": "code",
   "execution_count": null,
   "metadata": {},
   "outputs": [],
   "source": [
    "# recursively \n",
    "\n"
   ]
  }
 ],
 "metadata": {
  "kernelspec": {
   "display_name": "Python 3",
   "language": "python",
   "name": "python3"
  },
  "language_info": {
   "codemirror_mode": {
    "name": "ipython",
    "version": 3
   },
   "file_extension": ".py",
   "mimetype": "text/x-python",
   "name": "python",
   "nbconvert_exporter": "python",
   "pygments_lexer": "ipython3",
   "version": "3.10.5"
  },
  "orig_nbformat": 4
 },
 "nbformat": 4,
 "nbformat_minor": 2
}
